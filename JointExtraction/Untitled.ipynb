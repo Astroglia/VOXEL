{
 "cells": [
  {
   "cell_type": "code",
   "execution_count": 1,
   "metadata": {},
   "outputs": [
    {
     "name": "stdout",
     "output_type": "stream",
     "text": [
      "  0 = -0.76994 : (-5.237794887425869e-05, 6.375517356673184e-05)\n",
      "  1 = -0.76994 : (-0.00013374406000330206, 0.00016279498368574767)\n",
      "  2 = -0.76994 : (-0.0003864089470039541, 0.00047033560695084945)\n",
      "  3 = -0.76994 : (-0.0011095943545940093, 0.0013505719861829463)\n",
      "  4 = -0.76994 : (-0.002062857333406321, 0.00251072701429781)\n",
      "-------\n",
      "itk::simple::Transform\n",
      " TranslationTransform (0x1692e30)\n",
      "   RTTI typeinfo:   itk::TranslationTransform<double, 2u>\n",
      "   Reference Count: 2\n",
      "   Modified Time: 26421\n",
      "   Debug: Off\n",
      "   Object Name: \n",
      "   Observers: \n",
      "     none\n",
      "   Offset: [-0.000133744, 0.000162795]\n",
      "\n",
      "Optimizer stop condition: GradientDescentLineSearchOptimizerv4Template: Convergence checker passed at iteration 5.\n",
      " Iteration: 5\n",
      " Metric value: -0.7699392704419347\n"
     ]
    }
   ],
   "source": [
    "from __future__ import print_function\n",
    "from functools import reduce\n",
    "\n",
    "\n",
    "import SimpleITK as sitk\n",
    "import sys\n",
    "import os\n",
    "\n",
    "\n",
    "def command_iteration(method) :\n",
    "    print(\"{0:3} = {1:7.5f} : {2}\".format(method.GetOptimizerIteration(),\n",
    "                                           method.GetMetricValue(),\n",
    "                                           method.GetOptimizerPosition()))\n",
    "\n",
    "\n",
    "pixelType = sitk.sitkFloat32\n",
    "\n",
    "fixed = sitk.ReadImage('t1.jpg', sitk.sitkFloat32)\n",
    "fixed = sitk.Normalize(fixed)\n",
    "fixed = sitk.DiscreteGaussian(fixed, 2.0)\n",
    "\n",
    "\n",
    "moving = sitk.ReadImage('t2.jpg', sitk.sitkFloat32)\n",
    "moving = sitk.Normalize(moving)\n",
    "moving = sitk.DiscreteGaussian(moving, 2.0)\n",
    "\n",
    "\n",
    "R = sitk.ImageRegistrationMethod()\n",
    "\n",
    "R.SetMetricAsJointHistogramMutualInformation()\n",
    "\n",
    "R.SetOptimizerAsGradientDescentLineSearch(learningRate=1.0,\n",
    "                                          numberOfIterations=200,\n",
    "                                          convergenceMinimumValue=1e-5,\n",
    "                                          convergenceWindowSize=5)\n",
    "\n",
    "R.SetInitialTransform(sitk.TranslationTransform(fixed.GetDimension()))\n",
    "\n",
    "R.SetInterpolator(sitk.sitkLinear)\n",
    "\n",
    "R.AddCommand( sitk.sitkIterationEvent, lambda: command_iteration(R) )\n",
    "\n",
    "outTx = R.Execute(fixed, moving)\n",
    "\n",
    "print(\"-------\")\n",
    "print(outTx)\n",
    "print(\"Optimizer stop condition: {0}\".format(R.GetOptimizerStopConditionDescription()))\n",
    "print(\" Iteration: {0}\".format(R.GetOptimizerIteration()))\n",
    "print(\" Metric value: {0}\".format(R.GetMetricValue()))"
   ]
  },
  {
   "cell_type": "code",
   "execution_count": 9,
   "metadata": {},
   "outputs": [
    {
     "ename": "TypeError",
     "evalue": "in method 'ResampleImageFilter_SetReferenceImage', argument 2 of type 'itk::simple::Image const &'",
     "output_type": "error",
     "traceback": [
      "\u001b[0;31m---------------------------------------------------------------------------\u001b[0m",
      "\u001b[0;31mTypeError\u001b[0m                                 Traceback (most recent call last)",
      "\u001b[0;32m<ipython-input-9-f3871954e803>\u001b[0m in \u001b[0;36m<module>\u001b[0;34m\u001b[0m\n\u001b[1;32m      4\u001b[0m \u001b[0;34m\u001b[0m\u001b[0m\n\u001b[1;32m      5\u001b[0m     \u001b[0mresampler\u001b[0m \u001b[0;34m=\u001b[0m \u001b[0msitk\u001b[0m\u001b[0;34m.\u001b[0m\u001b[0mResampleImageFilter\u001b[0m\u001b[0;34m(\u001b[0m\u001b[0;34m)\u001b[0m\u001b[0;34m\u001b[0m\u001b[0;34m\u001b[0m\u001b[0m\n\u001b[0;32m----> 6\u001b[0;31m     \u001b[0mresampler\u001b[0m\u001b[0;34m.\u001b[0m\u001b[0mSetReferenceImage\u001b[0m\u001b[0;34m(\u001b[0m\u001b[0mfixed\u001b[0m\u001b[0;34m)\u001b[0m\u001b[0;34m\u001b[0m\u001b[0;34m\u001b[0m\u001b[0m\n\u001b[0m\u001b[1;32m      7\u001b[0m     \u001b[0mresampler\u001b[0m\u001b[0;34m.\u001b[0m\u001b[0mSetInterpolator\u001b[0m\u001b[0;34m(\u001b[0m\u001b[0msitk\u001b[0m\u001b[0;34m.\u001b[0m\u001b[0msitkLinear\u001b[0m\u001b[0;34m)\u001b[0m\u001b[0;34m\u001b[0m\u001b[0;34m\u001b[0m\u001b[0m\n\u001b[1;32m      8\u001b[0m     \u001b[0mresampler\u001b[0m\u001b[0;34m.\u001b[0m\u001b[0mSetDefaultPixelValue\u001b[0m\u001b[0;34m(\u001b[0m\u001b[0;36m1\u001b[0m\u001b[0;34m)\u001b[0m\u001b[0;34m\u001b[0m\u001b[0;34m\u001b[0m\u001b[0m\n",
      "\u001b[0;32m/usr/local/lib/python3.6/dist-packages/SimpleITK/SimpleITK.py\u001b[0m in \u001b[0;36mSetReferenceImage\u001b[0;34m(self, refImage)\u001b[0m\n\u001b[1;32m  58912\u001b[0m \u001b[0;34m\u001b[0m\u001b[0m\n\u001b[1;32m  58913\u001b[0m         \"\"\"\n\u001b[0;32m> 58914\u001b[0;31m         \u001b[0;32mreturn\u001b[0m \u001b[0m_SimpleITK\u001b[0m\u001b[0;34m.\u001b[0m\u001b[0mResampleImageFilter_SetReferenceImage\u001b[0m\u001b[0;34m(\u001b[0m\u001b[0mself\u001b[0m\u001b[0;34m,\u001b[0m \u001b[0mrefImage\u001b[0m\u001b[0;34m)\u001b[0m\u001b[0;34m\u001b[0m\u001b[0;34m\u001b[0m\u001b[0m\n\u001b[0m\u001b[1;32m  58915\u001b[0m \u001b[0;34m\u001b[0m\u001b[0m\n\u001b[1;32m  58916\u001b[0m \u001b[0mResampleImageFilter_swigregister\u001b[0m \u001b[0;34m=\u001b[0m \u001b[0m_SimpleITK\u001b[0m\u001b[0;34m.\u001b[0m\u001b[0mResampleImageFilter_swigregister\u001b[0m\u001b[0;34m\u001b[0m\u001b[0;34m\u001b[0m\u001b[0m\n",
      "\u001b[0;31mTypeError\u001b[0m: in method 'ResampleImageFilter_SetReferenceImage', argument 2 of type 'itk::simple::Image const &'"
     ]
    }
   ],
   "source": [
    "\n",
    "import numpy as np\n",
    "\n",
    "if ( not \"SITK_NOSHOW\" in os.environ ):\n",
    "\n",
    "    resampler = sitk.ResampleImageFilter()\n",
    "    resampler.SetReferenceImage(fixed)\n",
    "    resampler.SetInterpolator(sitk.sitkLinear)\n",
    "    resampler.SetDefaultPixelValue(1)\n",
    "    resampler.SetTransform(outTx)\n",
    "\n",
    "    out = resampler.Execute(moving)\n",
    "\n",
    "    simg1 = sitk.Cast(sitk.RescaleIntensity(fixed), sitk.sitkUInt8)\n",
    "    simg2 = sitk.Cast(sitk.RescaleIntensity(out), sitk.sitkUInt8)\n",
    "    cimg = sitk.Compose(simg1, simg2, simg1//2.+simg2//2.)\n",
    "\n",
    "    out_as_numpy = sitk.GetArrayFromImage(out)\n",
    "    print(out_as_numpy)\n",
    "    import png\n",
    "    png.from_array(out_as_numpy, 'L').save(\"small_smiley.png\")\n",
    "\n",
    "    import matplotlib.pyplot as plt\n",
    "    plt.imshow(out_as_numpy)\n",
    "\n",
    "  #  sitk.WriteImage(out, 'out.png')\n",
    "   # sitk.Show( cimg, \"ImageRegistration2 Composition\" )"
   ]
  },
  {
   "cell_type": "code",
   "execution_count": null,
   "metadata": {},
   "outputs": [],
   "source": []
  },
  {
   "cell_type": "code",
   "execution_count": null,
   "metadata": {},
   "outputs": [],
   "source": []
  }
 ],
 "metadata": {
  "kernelspec": {
   "display_name": "Python 3",
   "language": "python",
   "name": "python3"
  },
  "language_info": {
   "codemirror_mode": {
    "name": "ipython",
    "version": 3
   },
   "file_extension": ".py",
   "mimetype": "text/x-python",
   "name": "python",
   "nbconvert_exporter": "python",
   "pygments_lexer": "ipython3",
   "version": "3.6.9"
  }
 },
 "nbformat": 4,
 "nbformat_minor": 4
}
